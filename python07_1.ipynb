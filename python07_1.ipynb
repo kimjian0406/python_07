{
  "nbformat": 4,
  "nbformat_minor": 0,
  "metadata": {
    "colab": {
      "provenance": [],
      "authorship_tag": "ABX9TyOV1BVhHi0QSu2rwHPr796j"
    },
    "kernelspec": {
      "name": "python3",
      "display_name": "Python 3"
    },
    "language_info": {
      "name": "python"
    }
  },
  "cells": [
    {
      "cell_type": "markdown",
      "source": [
        "사용자로부터 두 개의 숫자를 입력받아 나눗셈을 수행하는 프로그램을 작성하세요.\n",
        "\n",
        "[예외처리]\n",
        "- 입력 값이 숫자가 아닐 때 발생할 수 있는 ValueError\n",
        "- 나누는 수가 0일 때 발생할 수 있는 ZeroDivisionError\n",
        "- 위 2가지 예외처리 후 사용자에게 이해하기 쉬운 메시지 작성 후 출력되도록 코드를 작성"
      ],
      "metadata": {
        "id": "WhvvK5vAgN6v"
      }
    },
    {
      "cell_type": "code",
      "source": [
        "def divide_numbers():\n",
        "    try:\n",
        "        # 사용자로부터 두 숫자 입력받기\n",
        "        num1 = float(input(\"첫 번째 숫자를 입력하세요: \"))\n",
        "        num2 = float(input(\"두 번째 숫자를 입력하세요: \"))\n",
        "\n",
        "        # 나눗셈 수행\n",
        "        result = num1 / num2\n",
        "    except ValueError:\n",
        "        print(\"입력 값이 올바른 숫자가 아닙니다. 숫자를 입력해주세요.\")\n",
        "    except ZeroDivisionError:\n",
        "        print(\"0으로 나눌 수 없습니다. 다른 숫자를 입력해주세요.\")\n",
        "    else:\n",
        "        print(f\"결과: {result}\")\n",
        "\n",
        "# 함수 실행\n",
        "divide_numbers()\n"
      ],
      "metadata": {
        "colab": {
          "base_uri": "https://localhost:8080/"
        },
        "id": "qv_NXU9KgUZ1",
        "outputId": "177f4c1a-65fa-4ecc-9a0c-ae149f68c0d8"
      },
      "execution_count": 1,
      "outputs": [
        {
          "output_type": "stream",
          "name": "stdout",
          "text": [
            "첫 번째 숫자를 입력하세요: 1\n",
            "두 번째 숫자를 입력하세요: 2\n",
            "결과: 0.5\n"
          ]
        }
      ]
    },
    {
      "cell_type": "markdown",
      "source": [],
      "metadata": {
        "id": "lnX4Rk6ygVDf"
      }
    }
  ]
}