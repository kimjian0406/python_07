{
  "nbformat": 4,
  "nbformat_minor": 0,
  "metadata": {
    "colab": {
      "provenance": [],
      "authorship_tag": "ABX9TyOIr33INMZzcZNwLevZPMva"
    },
    "kernelspec": {
      "name": "python3",
      "display_name": "Python 3"
    },
    "language_info": {
      "name": "python"
    }
  },
  "cells": [
    {
      "cell_type": "markdown",
      "source": [
        "파일을 읽어서 내용을 출력하는 프로그램을 작성하세요.\n",
        "\n",
        "- 파일이 존재하지 않을 때 발생하는 FileNotFoundError를 처리\n",
        "- 파일이 존재하지 않을 경우 \"파일을 찾을 수 없습니다.\"라는 메시지를 출력"
      ],
      "metadata": {
        "id": "1hgU0oljhFHG"
      }
    },
    {
      "cell_type": "code",
      "source": [
        "def read_file(file_path):\n",
        "    try:\n",
        "        # 파일 읽기 시도\n",
        "        with open(file_path, 'r') as file:\n",
        "            content = file.read()\n",
        "            print(\"파일 내용:\")\n",
        "            print(content)\n",
        "    except FileNotFoundError:\n",
        "        # 파일이 없을 경우 예외 처리\n",
        "        print(\"파일을 찾을 수 없습니다.\")\n",
        "\n",
        "# 파일 경로 입력\n",
        "file_path = input(\"읽을 파일 경로를 입력하세요: \")\n",
        "read_file(file_path)\n"
      ],
      "metadata": {
        "colab": {
          "base_uri": "https://localhost:8080/"
        },
        "id": "1zmV9c-NhI7k",
        "outputId": "d3fe197f-ae3a-4be6-df4b-0523da76be8b"
      },
      "execution_count": 1,
      "outputs": [
        {
          "output_type": "stream",
          "name": "stdout",
          "text": [
            "읽을 파일 경로를 입력하세요: dndld\n",
            "파일을 찾을 수 없습니다.\n"
          ]
        }
      ]
    }
  ]
}