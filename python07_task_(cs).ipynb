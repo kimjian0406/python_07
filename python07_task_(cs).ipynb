{
  "nbformat": 4,
  "nbformat_minor": 0,
  "metadata": {
    "colab": {
      "provenance": [],
      "authorship_tag": "ABX9TyN+svWSiG+quSQ6fu2VB6+1"
    },
    "kernelspec": {
      "name": "python3",
      "display_name": "Python 3"
    },
    "language_info": {
      "name": "python"
    }
  },
  "cells": [
    {
      "cell_type": "markdown",
      "source": [
        "### [목표]\n",
        "\n",
        "플레이어는 지도 상에서 보물을 찾아야 합니다. 지도는 그리드로 구성되며, 플레이어는 매 턴마다 이동하여 보물의 위치를 찾아야 합니다. 보물의 위치는 무작위로 설정됩니다."
      ],
      "metadata": {
        "id": "n-9HWdUsnlWX"
      }
    },
    {
      "cell_type": "markdown",
      "source": [
        "### [게임 설명]\n",
        "\n",
        "1. 게임 시작 시, 프로그램은 N x N 크기의 그리드를 생성하고, 그리드 내에 무작위 위치에 보물을 배치합니다.\n",
        "2. 플레이어는 그리드 내의 특정 위치에서 시작합니다. 초기 위치도 무작위로 결정됩니다.\n",
        "3. 플레이어는 북(N), 남(S), 동(E), 서(W) 중 하나의 방향으로 한 칸 이동할 수 있습니다.\n",
        "4. 이동 후, 플레이어는 보물까지의 대략적인 거리를 알 수 있습니다. 정확한 위치는 알 수 없습니다.\n",
        "5. 플레이어가 보물 위치에 도달하면 게임이 종료되고, 이동 횟수가 공개됩니다."
      ],
      "metadata": {
        "id": "oVErgPu1nqrd"
      }
    },
    {
      "cell_type": "markdown",
      "source": [
        "### [기능 요구 사항]\n",
        "\n",
        "- **그리드 생성**: N x N 크기의 게임 보드를 생성합니다.\n",
        "- **보물 및 플레이어 위치 초기화**: 보물과 플레이어의 위치를 무작위로 설정합니다.\n",
        "- **이동 명령 수행**: 플레이어로부터 이동 명령을 입력받아 수행합니다.\n",
        "- **거리 힌트 제공**: 플레이어에게 현재 위치에서 보물까지의 거리에 대한 힌트를 제공합니다.\n",
        "- **게임 종료 조건 확인**: 플레이어가 보물을 찾으면 게임을 종료합니다."
      ],
      "metadata": {
        "id": "Eu5ze2oRo8pT"
      }
    },
    {
      "cell_type": "markdown",
      "source": [
        "### [개발 단계]\n",
        "\n",
        "1. **게임 환경 설정**: 필요한 변수(보드 크기, 위치 정보 등)와 게임 보드를 초기화합니다.\n",
        "2. **플레이어 입력 처리**: 플레이어로부터 이동 명령을 입력받고, 입력에 따라 플레이어의 위치를 업데이트합니다.\n",
        "3. **거리 계산 및 힌트 제공**: 현재 플레이어 위치에서 보물까지의 거리를 계산하고, 이를 기반으로 힌트를 제공합니다.\n",
        "4. **게임 종료 및 결과 출력**: 플레이어가 보물 위치에 도달하면 게임을 종료하고, 플레이어의 이동 횟수를 출력합니다."
      ],
      "metadata": {
        "id": "bgDGOssdpEYa"
      }
    },
    {
      "cell_type": "code",
      "source": [
        "import random\n",
        "\n",
        "# 그리드 크기 설정\n",
        "GRID_SIZE = 5\n",
        "\n",
        "# 지도 생성\n",
        "def create_map():\n",
        "    return [['.' for _ in range(GRID_SIZE)] for _ in range(GRID_SIZE)]\n",
        "\n",
        "# 보물의 위치 설정\n",
        "def place_treasure():\n",
        "    return random.randint(0, GRID_SIZE - 1), random.randint(0, GRID_SIZE - 1)\n",
        "\n",
        "# 플레이어의 위치 설정\n",
        "def place_player():\n",
        "    return random.randint(0, GRID_SIZE - 1), random.randint(0, GRID_SIZE - 1)\n",
        "\n",
        "# 게임 지도 출력\n",
        "def print_map(player_position, treasure_position):\n",
        "    for row in range(GRID_SIZE):\n",
        "        for col in range(GRID_SIZE):\n",
        "            if (row, col) == player_position:\n",
        "                print('P', end=' ')  # 플레이어 위치\n",
        "            elif (row, col) == treasure_position:\n",
        "                print('T', end=' ')  # 보물 위치\n",
        "            else:\n",
        "                print('.', end=' ')  # 빈 공간\n",
        "        print()\n",
        "\n",
        "# 게임 로직\n",
        "def play_game():\n",
        "    # 보물과 플레이어의 초기 위치 설정\n",
        "    treasure_position = place_treasure()\n",
        "    player_position = place_player()\n",
        "\n",
        "    # 보물이 이미 플레이어의 위치에 배치되었을 경우 재배치\n",
        "    while player_position == treasure_position:\n",
        "        player_position = place_player()\n",
        "\n",
        "    print(\"보물이 숨겨졌습니다! 그리드에서 보물을 찾아보세요!\")\n",
        "    print(\"플레이어는 'P'로 표시되고, 보물은 'T'로 표시됩니다.\")\n",
        "\n",
        "    # 게임 시작\n",
        "    while True:\n",
        "        print_map(player_position, treasure_position)\n",
        "\n",
        "        # 플레이어가 보물에 도달했는지 확인\n",
        "        if player_position == treasure_position:\n",
        "            print(\"축하합니다! 보물을 찾았습니다!\")\n",
        "            break\n",
        "\n",
        "        # 사용자 입력 받기\n",
        "        move = input(\"이동할 방향을 입력하세요 (w: 위, s: 아래, a: 왼쪽, d: 오른쪽): \").lower()\n",
        "\n",
        "        if move == 'w' and player_position[0] > 0:  # 위로 이동\n",
        "            player_position = (player_position[0] - 1, player_position[1])\n",
        "        elif move == 's' and player_position[0] < GRID_SIZE - 1:  # 아래로 이동\n",
        "            player_position = (player_position[0] + 1, player_position[1])\n",
        "        elif move == 'a' and player_position[1] > 0:  # 왼쪽으로 이동\n",
        "            player_position = (player_position[0], player_position[1] - 1)\n",
        "        elif move == 'd' and player_position[1] < GRID_SIZE - 1:  # 오른쪽으로 이동\n",
        "            player_position = (player_position[0], player_position[1] + 1)\n",
        "        else:\n",
        "            print(\"잘못된 입력이거나 이동할 수 없습니다. 다시 시도하세요.\")\n",
        "\n",
        "# 게임 실행\n",
        "if __name__ == \"__main__\":\n",
        "    play_game()\n"
      ],
      "metadata": {
        "colab": {
          "base_uri": "https://localhost:8080/"
        },
        "id": "V5G7kcrepKJQ",
        "outputId": "78a534d3-fb96-44fe-8aa1-56c181fa850c"
      },
      "execution_count": 1,
      "outputs": [
        {
          "output_type": "stream",
          "name": "stdout",
          "text": [
            "보물이 숨겨졌습니다! 그리드에서 보물을 찾아보세요!\n",
            "플레이어는 'P'로 표시되고, 보물은 'T'로 표시됩니다.\n",
            ". . . T . \n",
            ". . . . . \n",
            ". P . . . \n",
            ". . . . . \n",
            ". . . . . \n",
            "이동할 방향을 입력하세요 (w: 위, s: 아래, a: 왼쪽, d: 오른쪽): w\n",
            ". . . T . \n",
            ". P . . . \n",
            ". . . . . \n",
            ". . . . . \n",
            ". . . . . \n",
            "이동할 방향을 입력하세요 (w: 위, s: 아래, a: 왼쪽, d: 오른쪽): a\n",
            ". . . T . \n",
            "P . . . . \n",
            ". . . . . \n",
            ". . . . . \n",
            ". . . . . \n",
            "이동할 방향을 입력하세요 (w: 위, s: 아래, a: 왼쪽, d: 오른쪽): w\n",
            "P . . T . \n",
            ". . . . . \n",
            ". . . . . \n",
            ". . . . . \n",
            ". . . . . \n",
            "이동할 방향을 입력하세요 (w: 위, s: 아래, a: 왼쪽, d: 오른쪽): d\n",
            ". P . T . \n",
            ". . . . . \n",
            ". . . . . \n",
            ". . . . . \n",
            ". . . . . \n",
            "이동할 방향을 입력하세요 (w: 위, s: 아래, a: 왼쪽, d: 오른쪽): d\n",
            ". . P T . \n",
            ". . . . . \n",
            ". . . . . \n",
            ". . . . . \n",
            ". . . . . \n",
            "이동할 방향을 입력하세요 (w: 위, s: 아래, a: 왼쪽, d: 오른쪽): d\n",
            ". . . P . \n",
            ". . . . . \n",
            ". . . . . \n",
            ". . . . . \n",
            ". . . . . \n",
            "축하합니다! 보물을 찾았습니다!\n"
          ]
        }
      ]
    }
  ]
}