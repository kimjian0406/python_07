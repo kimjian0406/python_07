{
  "nbformat": 4,
  "nbformat_minor": 0,
  "metadata": {
    "colab": {
      "provenance": [],
      "authorship_tag": "ABX9TyMFFKtvr+bioSked6dS31av"
    },
    "kernelspec": {
      "name": "python3",
      "display_name": "Python 3"
    },
    "language_info": {
      "name": "python"
    }
  },
  "cells": [
    {
      "cell_type": "markdown",
      "source": [
        "requests 모듈을 사용하여, 웹 페이지의 HTML을 가져오는 간단한 웹 스크레이퍼를 작성하세요.\n",
        "\n",
        "'https://kream.co.kr/'에서<br>\n",
        "데이터를 가져와서 상태 코드와 HTML의 첫 100자를 출력하세요.<br>\n",
        "(실습 전 requests 모듈을 설치해야 함)"
      ],
      "metadata": {
        "id": "eJsW18UgjZTE"
      }
    },
    {
      "cell_type": "code",
      "source": [
        "import requests\n",
        "\n",
        "def scrape_kream():\n",
        "    url = 'https://kream.co.kr/'  # 대상 웹 페이지 URL\n",
        "    try:\n",
        "        # 웹 페이지 요청\n",
        "        response = requests.get(url)\n",
        "        response.raise_for_status()  # HTTP 상태 코드 확인 (예외 발생 처리)\n",
        "\n",
        "        # 상태 코드와 HTML 출력\n",
        "        print(f\"HTTP 상태 코드: {response.status_code}\")\n",
        "        print(\"HTML 내용의 첫 100자:\")\n",
        "        print(response.text[:100])\n",
        "    except requests.exceptions.RequestException as e:\n",
        "        print(\"요청 중 오류가 발생했습니다:\", e)\n",
        "\n",
        "# 함수 실행\n",
        "scrape_kream()\n"
      ],
      "metadata": {
        "colab": {
          "base_uri": "https://localhost:8080/"
        },
        "id": "ZrHhhAocjleZ",
        "outputId": "dafafa57-e3ea-4c84-9a6f-3617c63bcb38"
      },
      "execution_count": 1,
      "outputs": [
        {
          "output_type": "stream",
          "name": "stdout",
          "text": [
            "요청 중 오류가 발생했습니다: 500 Server Error: Internal Server Error for url: https://kream.co.kr/\n"
          ]
        }
      ]
    }
  ]
}