{
  "nbformat": 4,
  "nbformat_minor": 0,
  "metadata": {
    "colab": {
      "provenance": [],
      "authorship_tag": "ABX9TyNo9ab/JNzGC6gFJ72PxG06"
    },
    "kernelspec": {
      "name": "python3",
      "display_name": "Python 3"
    },
    "language_info": {
      "name": "python"
    }
  },
  "cells": [
    {
      "cell_type": "markdown",
      "source": [
        "datetime 모듈을 사용하여 현재 날짜와 시간을 출력하는 프로그램을 작성하세요.\n",
        "\n",
        "또한, 사용자로부터 태어난 년도를 입력받아 현재 나이를 계산하여 출력하세요."
      ],
      "metadata": {
        "id": "q-k3weWni1jG"
      }
    },
    {
      "cell_type": "code",
      "source": [
        "from datetime import datetime\n",
        "\n",
        "def calculate_age():\n",
        "    # 현재 날짜와 시간 출력\n",
        "    now = datetime.now()\n",
        "    print(\"현재 날짜와 시간:\", now.strftime(\"%Y-%m-%d %H:%M:%S\"))\n",
        "\n",
        "    try:\n",
        "        # 태어난 년도 입력받기\n",
        "        birth_year = int(input(\"태어난 년도를 입력하세요 (예: 1990): \"))\n",
        "        if birth_year > now.year:\n",
        "            print(\"태어난 년도는 현재 연도보다 클 수 없습니다.\")\n",
        "            return\n",
        "\n",
        "        # 나이 계산\n",
        "        age = now.year - birth_year\n",
        "        print(f\"현재 나이: {age}세\")\n",
        "    except ValueError:\n",
        "        print(\"올바른 년도를 입력해주세요.\")\n",
        "\n",
        "# 함수 실행\n",
        "calculate_age()\n"
      ],
      "metadata": {
        "colab": {
          "base_uri": "https://localhost:8080/"
        },
        "id": "chM2M-63i4Tm",
        "outputId": "d4462df2-1dea-4e7f-fec7-aea10936b47a"
      },
      "execution_count": 1,
      "outputs": [
        {
          "output_type": "stream",
          "name": "stdout",
          "text": [
            "현재 날짜와 시간: 2025-01-15 01:20:16\n",
            "태어난 년도를 입력하세요 (예: 1990): 1997\n",
            "현재 나이: 28세\n"
          ]
        }
      ]
    }
  ]
}