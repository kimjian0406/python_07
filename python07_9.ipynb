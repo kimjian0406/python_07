{
  "nbformat": 4,
  "nbformat_minor": 0,
  "metadata": {
    "colab": {
      "provenance": [],
      "authorship_tag": "ABX9TyMT5AtR+BCcpWrLzz+55Jxg"
    },
    "kernelspec": {
      "name": "python3",
      "display_name": "Python 3"
    },
    "language_info": {
      "name": "python"
    }
  },
  "cells": [
    {
      "cell_type": "markdown",
      "source": [
        "animals라는 패키지를 만들고, 이 패키지 내에 mammals, birds라는 두 개의 서브 모듈을 생성하세요.\n",
        "\n",
        "- 각 모듈에는 최소한 한 개 이상의 동물에 관한 클래스를 정의하세요<br>\n",
        "  (예: mammals에는 Dog, birds에는 Eagle)\n",
        "- 이 패키지와 모듈을 사용하여 동물들의 정보를 출력하는 프로그램을 작성\n",
        "\n",
        "폴더 및 파일 구조\n",
        "```\n",
        "animals/(폴더)\n",
        "├── __init__.py\n",
        "├── mammals.py\n",
        "└── birds.py\n",
        "```\n"
      ],
      "metadata": {
        "id": "0xi1GWjhlUte"
      }
    },
    {
      "cell_type": "code",
      "source": [
        "class Dog:\n",
        "    \"\"\"개 클래스\"\"\"\n",
        "    def __init__(self, name, breed):\n",
        "        self.name = name\n",
        "        self.breed = breed\n",
        "\n",
        "    def speak(self):\n",
        "        return f\"{self.name}가 멍멍 하고 짖습니다.\"\n"
      ],
      "metadata": {
        "id": "guwrrOZIlYHK"
      },
      "execution_count": 1,
      "outputs": []
    },
    {
      "cell_type": "code",
      "source": [
        "class Eagle:\n",
        "    \"\"\"독수리 클래스\"\"\"\n",
        "    def __init__(self, name, wingspan):\n",
        "        self.name = name\n",
        "        self.wingspan = wingspan\n",
        "\n",
        "    def fly(self):\n",
        "        return f\"{self.name}가 날개를 펼치고 {self.wingspan}m 너비로 날아갑니다.\"\n"
      ],
      "metadata": {
        "id": "MQVsqf4JmTbl"
      },
      "execution_count": 2,
      "outputs": []
    },
    {
      "cell_type": "code",
      "source": [
        "from animals.mammals import Dog\n",
        "from animals.birds import Eagle\n",
        "\n",
        "def main():\n",
        "    # Dog 객체 생성 및 사용\n",
        "    my_dog = Dog(name=\"바둑이\", breed=\"진돗개\")\n",
        "    print(my_dog.speak())\n",
        "\n",
        "    # Eagle 객체 생성 및 사용\n",
        "    my_eagle = Eagle(name=\"황제독수리\", wingspan=2.3)\n",
        "    print(my_eagle.fly())\n",
        "\n",
        "# 프로그램 실행\n",
        "if __name__ == \"__main__\":\n",
        "    main()\n"
      ],
      "metadata": {
        "id": "8Iq0T9yhmbzT"
      },
      "execution_count": null,
      "outputs": []
    }
  ]
}