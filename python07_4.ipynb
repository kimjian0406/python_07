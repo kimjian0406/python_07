{
  "nbformat": 4,
  "nbformat_minor": 0,
  "metadata": {
    "colab": {
      "provenance": [],
      "authorship_tag": "ABX9TyOUi49wlRyZ1tXc+GfdoJUq"
    },
    "kernelspec": {
      "name": "python3",
      "display_name": "Python 3"
    },
    "language_info": {
      "name": "python"
    }
  },
  "cells": [
    {
      "cell_type": "markdown",
      "source": [
        "사용자 정의 예외 NegativeNumberError를 생성하고, 사용자로부터 숫자를 입력받아 음수일 경우 NegativeNumberError를 발생시키는 프로그램을 작성하세요.\n",
        "\n",
        "- 예외 처리 구문을 사용하여 음수 입력 시 \"양수를 입력해주세요.\"라는 메시지를 출력"
      ],
      "metadata": {
        "id": "kE4Gld_1iI1p"
      }
    },
    {
      "cell_type": "code",
      "source": [
        "# 사용자 정의 예외 클래스\n",
        "class NegativeNumberError(Exception):\n",
        "    \"\"\"음수 입력 시 발생하는 사용자 정의 예외\"\"\"\n",
        "    pass\n",
        "\n",
        "def get_positive_number():\n",
        "    try:\n",
        "        # 사용자로부터 숫자 입력받기\n",
        "        num = float(input(\"숫자를 입력하세요: \"))\n",
        "        if num < 0:\n",
        "            # 음수일 경우 사용자 정의 예외 발생\n",
        "            raise NegativeNumberError\n",
        "        print(f\"입력한 숫자: {num}\")\n",
        "    except NegativeNumberError:\n",
        "        print(\"양수를 입력해주세요.\")\n",
        "    except ValueError:\n",
        "        print(\"유효한 숫자를 입력해주세요.\")\n",
        "\n",
        "# 함수 실행\n",
        "get_positive_number()\n"
      ],
      "metadata": {
        "colab": {
          "base_uri": "https://localhost:8080/"
        },
        "id": "rEOHVoXbiYPn",
        "outputId": "25b87944-34ba-43b6-880d-ec3f99dbb82d"
      },
      "execution_count": 1,
      "outputs": [
        {
          "output_type": "stream",
          "name": "stdout",
          "text": [
            "숫자를 입력하세요: -5\n",
            "양수를 입력해주세요.\n"
          ]
        }
      ]
    }
  ]
}