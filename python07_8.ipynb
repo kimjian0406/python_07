{
  "nbformat": 4,
  "nbformat_minor": 0,
  "metadata": {
    "colab": {
      "provenance": [],
      "authorship_tag": "ABX9TyNOgwhmJsBk0CA1SdP0Mg5v"
    },
    "kernelspec": {
      "name": "python3",
      "display_name": "Python 3"
    },
    "language_info": {
      "name": "python"
    }
  },
  "cells": [
    {
      "cell_type": "markdown",
      "source": [
        "여러분이 자주 사용하는 수학적 연산<br>\n",
        "(예: 삼각형 넓이, 원의 넓이, 직육면체의 넓이)을 수행하는 함수들을 포함하는 mymath.py라는 이름의 모듈을 만드세요.\n",
        "\n",
        "이 모듈을 사용하여 작성된 함수들을 실제로 임포트하고 사용하는 간단한 프로그램을 작성하세요."
      ],
      "metadata": {
        "id": "ZAu2RbyFko-r"
      }
    },
    {
      "cell_type": "code",
      "source": [
        "import math\n",
        "\n",
        "def triangle_area(base, height):\n",
        "    \"\"\"삼각형 넓이 계산\"\"\"\n",
        "    return 0.5 * base * height\n",
        "\n",
        "def circle_area(radius):\n",
        "    \"\"\"원의 넓이 계산\"\"\"\n",
        "    return math.pi * radius**2\n",
        "\n",
        "def rectangular_prism_surface_area(length, width, height):\n",
        "    \"\"\"직육면체의 겉넓이 계산\"\"\"\n",
        "    return 2 * (length * width + width * height + length * height)\n"
      ],
      "metadata": {
        "id": "aiET0k0XksdS"
      },
      "execution_count": 1,
      "outputs": []
    }
  ]
}