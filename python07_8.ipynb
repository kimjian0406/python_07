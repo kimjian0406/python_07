{
  "nbformat": 4,
  "nbformat_minor": 0,
  "metadata": {
    "colab": {
      "provenance": [],
      "authorship_tag": "ABX9TyNxM07E4pYw8CKcFGJ6n0Nn"
    },
    "kernelspec": {
      "name": "python3",
      "display_name": "Python 3"
    },
    "language_info": {
      "name": "python"
    }
  },
  "cells": [
    {
      "cell_type": "markdown",
      "source": [
        "여러분이 자주 사용하는 수학적 연산<br>\n",
        "(예: 삼각형 넓이, 원의 넓이, 직육면체의 넓이)을 수행하는 함수들을 포함하는 mymath.py라는 이름의 모듈을 만드세요.\n",
        "\n",
        "이 모듈을 사용하여 작성된 함수들을 실제로 임포트하고 사용하는 간단한 프로그램을 작성하세요."
      ],
      "metadata": {
        "id": "jcYIEQI6lyvU"
      }
    },
    {
      "cell_type": "code",
      "source": [
        "import math\n",
        "\n",
        "def triangle_area(base, height):\n",
        "    \"\"\"삼각형 넓이 계산\"\"\"\n",
        "    return 0.5 * base * height\n",
        "\n",
        "def circle_area(radius):\n",
        "    \"\"\"원의 넓이 계산\"\"\"\n",
        "    return math.pi * radius**2\n",
        "\n",
        "def rectangular_prism_surface_area(length, width, height):\n",
        "    \"\"\"직육면체의 겉넓이 계산\"\"\"\n",
        "    return 2 * (length * width + width * height + length * height)\n"
      ],
      "metadata": {
        "id": "KGQiybrPl3K8"
      },
      "execution_count": null,
      "outputs": []
    },
    {
      "cell_type": "code",
      "source": [
        "import mymath\n",
        "\n",
        "# 삼각형 넓이 계산\n",
        "base = 10\n",
        "height = 5\n",
        "triangle_area = mymath.triangle_area(base, height)\n",
        "print(f\"밑변이 {base}, 높이가 {height}인 삼각형의 넓이: {triangle_area}\")\n",
        "\n",
        "# 원의 넓이 계산\n",
        "radius = 7\n",
        "circle_area = mymath.circle_area(radius)\n",
        "print(f\"반지름이 {radius}인 원의 넓이: {circle_area:.2f}\")\n",
        "\n",
        "# 직육면체의 겉넓이 계산\n",
        "length = 4\n",
        "width = 3\n",
        "height = 2\n",
        "prism_surface_area = mymath.rectangular_prism_surface_area(length, width, height)\n",
        "print(f\"가로 {length}, 세로 {width}, 높이 {height}인 직육면체의 겉넓이: {prism_surface_area}\")\n"
      ],
      "metadata": {
        "id": "CY_nyfS7l_dY"
      },
      "execution_count": null,
      "outputs": []
    }
  ]
}