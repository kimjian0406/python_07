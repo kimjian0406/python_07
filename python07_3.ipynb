{
  "nbformat": 4,
  "nbformat_minor": 0,
  "metadata": {
    "colab": {
      "provenance": [],
      "authorship_tag": "ABX9TyOsL11zcMv5lYaYbdkCdLTP"
    },
    "kernelspec": {
      "name": "python3",
      "display_name": "Python 3"
    },
    "language_info": {
      "name": "python"
    }
  },
  "cells": [
    {
      "cell_type": "markdown",
      "source": [
        "사용자로부터 여러 개의 숫자를 입력받아 리스트에 저장한 후, 사용자가 'done'이라고 입력할 때까지 계속 입력받으세요.\n",
        "\n",
        "- 입력 중 숫자가 아닌 값이 입력되면 ValueError를 처리\n",
        "- 숫자 외 값이 입력된 경우 어떤 값이 잘못 입력되었는지 사용자에게 알려주는 문구 출력<br>\n",
        "  (예: f\"잘못된 값: {변수}. 숫자를 입력해주세요.\")\n",
        "\n"
      ],
      "metadata": {
        "id": "9tE8faSKhrVL"
      }
    },
    {
      "cell_type": "code",
      "source": [
        "def collect_numbers():\n",
        "    numbers = []  # 숫자를 저장할 리스트\n",
        "    while True:\n",
        "        user_input = input(\"숫자를 입력하세요 ('done' 입력 시 종료): \")\n",
        "        if user_input.lower() == 'done':\n",
        "            break  # 입력 종료\n",
        "        try:\n",
        "            # 숫자로 변환하여 리스트에 추가\n",
        "            number = float(user_input)\n",
        "            numbers.append(number)\n",
        "        except ValueError:\n",
        "            # 잘못된 값 처리\n",
        "            print(f\"잘못된 값: '{user_input}'. 숫자를 입력해주세요.\")\n",
        "    return numbers\n",
        "\n",
        "# 함수 실행 및 결과 출력\n",
        "collected_numbers = collect_numbers()\n",
        "print(\"입력받은 숫자 리스트:\", collected_numbers)\n"
      ],
      "metadata": {
        "colab": {
          "base_uri": "https://localhost:8080/"
        },
        "id": "m2Ux8x7jhuhf",
        "outputId": "f84e06f4-6f93-49ea-d494-ba430c1da73e"
      },
      "execution_count": 1,
      "outputs": [
        {
          "output_type": "stream",
          "name": "stdout",
          "text": [
            "숫자를 입력하세요 ('done' 입력 시 종료): 7\n",
            "숫자를 입력하세요 ('done' 입력 시 종료): done\n",
            "입력받은 숫자 리스트: [7.0]\n"
          ]
        }
      ]
    }
  ]
}