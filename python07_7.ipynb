{
  "nbformat": 4,
  "nbformat_minor": 0,
  "metadata": {
    "colab": {
      "provenance": [],
      "authorship_tag": "ABX9TyMWpX2UfSQSX87x0YPV0x1i"
    },
    "kernelspec": {
      "name": "python3",
      "display_name": "Python 3"
    },
    "language_info": {
      "name": "python"
    }
  },
  "cells": [
    {
      "cell_type": "markdown",
      "source": [
        "함수 실행 시간을 측정하는 데코레이터 timer_decorator를 작성하세요.\n",
        "\n",
        "임의의 함수가 실행되는 시간을 측정하여 \"함수 실행 시간: x.xx초\" 형태로 출력하세요."
      ],
      "metadata": {
        "id": "gIaCLucJkH09"
      }
    },
    {
      "cell_type": "code",
      "source": [
        "import time\n",
        "\n",
        "def timer_decorator(func):\n",
        "    def wrapper(*args, **kwargs):\n",
        "        start_time = time.time()  # 시작 시간 기록\n",
        "        result = func(*args, **kwargs)  # 함수 실행\n",
        "        end_time = time.time()  # 종료 시간 기록\n",
        "        elapsed_time = end_time - start_time  # 실행 시간 계산\n",
        "        print(f\"함수 실행 시간: {elapsed_time:.2f}초\")\n",
        "        return result  # 원래 함수의 결과 반환\n",
        "    return wrapper\n",
        "\n",
        "# 데코레이터 사용 예시\n",
        "@timer_decorator\n",
        "def example_function():\n",
        "    print(\"작업 실행 중...\")\n",
        "    time.sleep(2)  # 2초간 대기 (임의의 작업 시뮬레이션)\n",
        "\n",
        "# 함수 실행\n",
        "example_function()\n"
      ],
      "metadata": {
        "colab": {
          "base_uri": "https://localhost:8080/"
        },
        "id": "MB-qBZfokKvq",
        "outputId": "cddcdefc-8a41-416f-d67d-7172cc2a78a7"
      },
      "execution_count": 1,
      "outputs": [
        {
          "output_type": "stream",
          "name": "stdout",
          "text": [
            "작업 실행 중...\n",
            "함수 실행 시간: 2.00초\n"
          ]
        }
      ]
    }
  ]
}